{
 "cells": [
  {
   "cell_type": "code",
   "execution_count": 2,
   "id": "eedce782",
   "metadata": {},
   "outputs": [],
   "source": [
    "import pandas as pd\n"
   ]
  },
  {
   "cell_type": "code",
   "execution_count": 3,
   "id": "3daccf3d",
   "metadata": {},
   "outputs": [],
   "source": [
    "df = pd.read_csv(\"Similiarityresults.csv\")\n",
    "data = pd.read_csv(\"sentimentdata.csv\")"
   ]
  },
  {
   "cell_type": "code",
   "execution_count": 4,
   "id": "dbb4eafa",
   "metadata": {},
   "outputs": [
    {
     "data": {
      "text/html": [
       "<div>\n",
       "<style scoped>\n",
       "    .dataframe tbody tr th:only-of-type {\n",
       "        vertical-align: middle;\n",
       "    }\n",
       "\n",
       "    .dataframe tbody tr th {\n",
       "        vertical-align: top;\n",
       "    }\n",
       "\n",
       "    .dataframe thead th {\n",
       "        text-align: right;\n",
       "    }\n",
       "</style>\n",
       "<table border=\"1\" class=\"dataframe\">\n",
       "  <thead>\n",
       "    <tr style=\"text-align: right;\">\n",
       "      <th></th>\n",
       "      <th>Unnamed: 0</th>\n",
       "      <th>GPTresponse</th>\n",
       "      <th>Comment text</th>\n",
       "      <th>Similiarity Result</th>\n",
       "    </tr>\n",
       "  </thead>\n",
       "  <tbody>\n",
       "    <tr>\n",
       "      <th>0</th>\n",
       "      <td>0</td>\n",
       "      <td>appears fiancé solid financial foundation debt...</td>\n",
       "      <td>NaN</td>\n",
       "      <td>0.000000</td>\n",
       "    </tr>\n",
       "    <tr>\n",
       "      <th>1</th>\n",
       "      <td>1</td>\n",
       "      <td>ideal take advantage 401k match offered employ...</td>\n",
       "      <td>1 save emergency fund 36 months worth expenses...</td>\n",
       "      <td>0.876796</td>\n",
       "    </tr>\n",
       "    <tr>\n",
       "      <th>2</th>\n",
       "      <td>2</td>\n",
       "      <td>great able build equity vehicles years based i...</td>\n",
       "      <td>would say depends region live in shooting hip ...</td>\n",
       "      <td>0.907281</td>\n",
       "    </tr>\n",
       "    <tr>\n",
       "      <th>3</th>\n",
       "      <td>3</td>\n",
       "      <td>sounds like solid plan place grad school years...</td>\n",
       "      <td>going able help financial specifics experience...</td>\n",
       "      <td>0.924915</td>\n",
       "    </tr>\n",
       "    <tr>\n",
       "      <th>4</th>\n",
       "      <td>4</td>\n",
       "      <td>no need exceptionally wealthy start trust fund...</td>\n",
       "      <td>work trust company account minimum 25k managed...</td>\n",
       "      <td>0.916461</td>\n",
       "    </tr>\n",
       "  </tbody>\n",
       "</table>\n",
       "</div>"
      ],
      "text/plain": [
       "   Unnamed: 0                                        GPTresponse  \\\n",
       "0           0  appears fiancé solid financial foundation debt...   \n",
       "1           1  ideal take advantage 401k match offered employ...   \n",
       "2           2  great able build equity vehicles years based i...   \n",
       "3           3  sounds like solid plan place grad school years...   \n",
       "4           4  no need exceptionally wealthy start trust fund...   \n",
       "\n",
       "                                        Comment text  Similiarity Result  \n",
       "0                                                NaN            0.000000  \n",
       "1  1 save emergency fund 36 months worth expenses...            0.876796  \n",
       "2  would say depends region live in shooting hip ...            0.907281  \n",
       "3  going able help financial specifics experience...            0.924915  \n",
       "4  work trust company account minimum 25k managed...            0.916461  "
      ]
     },
     "execution_count": 4,
     "metadata": {},
     "output_type": "execute_result"
    }
   ],
   "source": [
    "df.head()"
   ]
  },
  {
   "cell_type": "code",
   "execution_count": 5,
   "id": "1d2f356f",
   "metadata": {},
   "outputs": [
    {
     "data": {
      "text/html": [
       "<div>\n",
       "<style scoped>\n",
       "    .dataframe tbody tr th:only-of-type {\n",
       "        vertical-align: middle;\n",
       "    }\n",
       "\n",
       "    .dataframe tbody tr th {\n",
       "        vertical-align: top;\n",
       "    }\n",
       "\n",
       "    .dataframe thead th {\n",
       "        text-align: right;\n",
       "    }\n",
       "</style>\n",
       "<table border=\"1\" class=\"dataframe\">\n",
       "  <thead>\n",
       "    <tr style=\"text-align: right;\">\n",
       "      <th></th>\n",
       "      <th>Unnamed: 0</th>\n",
       "      <th>GPTresponse</th>\n",
       "      <th>Comment text</th>\n",
       "      <th>gpt_label</th>\n",
       "      <th>comment_label</th>\n",
       "    </tr>\n",
       "  </thead>\n",
       "  <tbody>\n",
       "    <tr>\n",
       "      <th>0</th>\n",
       "      <td>0</td>\n",
       "      <td>appears fiancé solid financial foundation debt...</td>\n",
       "      <td>NaN</td>\n",
       "      <td>neutral</td>\n",
       "      <td>positive</td>\n",
       "    </tr>\n",
       "    <tr>\n",
       "      <th>1</th>\n",
       "      <td>1</td>\n",
       "      <td>ideal take advantage 401k match offered employ...</td>\n",
       "      <td>1 save emergency fund 36 months worth expenses...</td>\n",
       "      <td>neutral</td>\n",
       "      <td>neutral</td>\n",
       "    </tr>\n",
       "    <tr>\n",
       "      <th>2</th>\n",
       "      <td>2</td>\n",
       "      <td>great able build equity vehicles years based i...</td>\n",
       "      <td>would say depends region live in shooting hip ...</td>\n",
       "      <td>neutral</td>\n",
       "      <td>neutral</td>\n",
       "    </tr>\n",
       "    <tr>\n",
       "      <th>3</th>\n",
       "      <td>3</td>\n",
       "      <td>sounds like solid plan place grad school years...</td>\n",
       "      <td>going able help financial specifics experience...</td>\n",
       "      <td>neutral</td>\n",
       "      <td>positive</td>\n",
       "    </tr>\n",
       "    <tr>\n",
       "      <th>4</th>\n",
       "      <td>4</td>\n",
       "      <td>no need exceptionally wealthy start trust fund...</td>\n",
       "      <td>work trust company account minimum 25k managed...</td>\n",
       "      <td>neutral</td>\n",
       "      <td>neutral</td>\n",
       "    </tr>\n",
       "  </tbody>\n",
       "</table>\n",
       "</div>"
      ],
      "text/plain": [
       "   Unnamed: 0                                        GPTresponse  \\\n",
       "0           0  appears fiancé solid financial foundation debt...   \n",
       "1           1  ideal take advantage 401k match offered employ...   \n",
       "2           2  great able build equity vehicles years based i...   \n",
       "3           3  sounds like solid plan place grad school years...   \n",
       "4           4  no need exceptionally wealthy start trust fund...   \n",
       "\n",
       "                                        Comment text gpt_label comment_label  \n",
       "0                                                NaN   neutral      positive  \n",
       "1  1 save emergency fund 36 months worth expenses...   neutral       neutral  \n",
       "2  would say depends region live in shooting hip ...   neutral       neutral  \n",
       "3  going able help financial specifics experience...   neutral      positive  \n",
       "4  work trust company account minimum 25k managed...   neutral       neutral  "
      ]
     },
     "execution_count": 5,
     "metadata": {},
     "output_type": "execute_result"
    }
   ],
   "source": [
    "data.head()"
   ]
  }
 ],
 "metadata": {
  "kernelspec": {
   "display_name": "Python 3 (ipykernel)",
   "language": "python",
   "name": "python3"
  },
  "language_info": {
   "codemirror_mode": {
    "name": "ipython",
    "version": 3
   },
   "file_extension": ".py",
   "mimetype": "text/x-python",
   "name": "python",
   "nbconvert_exporter": "python",
   "pygments_lexer": "ipython3",
   "version": "3.9.13"
  }
 },
 "nbformat": 4,
 "nbformat_minor": 5
}
